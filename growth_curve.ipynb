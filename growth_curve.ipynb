{
 "cells": [
  {
   "cell_type": "code",
   "execution_count": null,
   "id": "b51edc2a",
   "metadata": {},
   "outputs": [],
   "source": [
    "import pandas as pd\n",
    "\n",
    "def quadratic_growth(n,p_0,k):\n",
    "    return k*n*n\n",
    "def n_log_n_growth(n,p_0,k):\n",
    "    return k*n*np.log2(n)\n",
    "\n",
    "def limited_growth_function_log(t,p_0,k,l):\n",
    "    return np.log2(l*p_0/( (l-p_0)*(math.e ** (-k*t))+p_0))\n",
    "def limited_growth_function(t,p_0,k,l):\n",
    "    return l*p_0/( (l-p_0)*(math.e ** (-k*t))+p_0)\n",
    "def limited_growth_function_log(t,p_0,k,l):\n",
    "    return np.log2(l*p_0/( (l-p_0)*(math.e ** (-k*t))+p_0))\n",
    "\n",
    "\n"
   ]
  }
 ],
 "metadata": {
  "kernelspec": {
   "display_name": "Python 3 (ipykernel)",
   "language": "python",
   "name": "python3"
  },
  "language_info": {
   "codemirror_mode": {
    "name": "ipython",
    "version": 3
   },
   "file_extension": ".py",
   "mimetype": "text/x-python",
   "name": "python",
   "nbconvert_exporter": "python",
   "pygments_lexer": "ipython3",
   "version": "3.9.13"
  }
 },
 "nbformat": 4,
 "nbformat_minor": 5
}
