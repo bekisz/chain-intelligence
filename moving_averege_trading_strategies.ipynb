{
 "cells": [
  {
   "cell_type": "markdown",
   "id": "bff0e408",
   "metadata": {},
   "source": [
    "# Moving Averge-based Trading Strategies"
   ]
  },
  {
   "cell_type": "markdown",
   "id": "5349d20c",
   "metadata": {},
   "source": [
    "## Fetching Data from CryptoCompare"
   ]
  },
  {
   "cell_type": "code",
   "execution_count": 1,
   "id": "7e760300",
   "metadata": {
    "scrolled": true
   },
   "outputs": [
    {
     "name": "stdout",
     "output_type": "stream",
     "text": [
      "Request : https://min-api.cryptocompare.com/data/v2/histoday?fsym=BTC&tsym=USD&limit=2000&api_key=777db0605f662ba6667a0c8d385d317262bd221764d4a3b01dc7a629e9592a49&toTs=1677627126.005913\n"
     ]
    },
    {
     "ename": "MemoryError",
     "evalue": "Cannot allocate write+execute memory for ffi.callback(). You might be running on a system that prevents this. For more information, see https://cffi.readthedocs.io/en/latest/using.html#callbacks",
     "output_type": "error",
     "traceback": [
      "\u001b[0;31m---------------------------------------------------------------------------\u001b[0m",
      "\u001b[0;31mMemoryError\u001b[0m                               Traceback (most recent call last)",
      "Input \u001b[0;32mIn [1]\u001b[0m, in \u001b[0;36m<cell line: 46>\u001b[0;34m()\u001b[0m\n\u001b[1;32m     50\u001b[0m requestString \u001b[38;5;241m=\u001b[39m \u001b[38;5;124m'\u001b[39m\u001b[38;5;124mhttps://min-api.cryptocompare.com/data/v2/histoday?fsym=\u001b[39m\u001b[38;5;132;01m{}\u001b[39;00m\u001b[38;5;124m&tsym=USD&limit=\u001b[39m\u001b[38;5;132;01m{}\u001b[39;00m\u001b[38;5;124m&api_key=\u001b[39m\u001b[38;5;132;01m{}\u001b[39;00m\u001b[38;5;124m&toTs=\u001b[39m\u001b[38;5;132;01m{}\u001b[39;00m\u001b[38;5;124m'\u001b[39m\\\n\u001b[1;32m     51\u001b[0m \u001b[38;5;241m.\u001b[39mformat(coin, limit, cryptocompare_api_key, timestamp\u001b[38;5;241m.\u001b[39mtimestamp())\n\u001b[1;32m     52\u001b[0m \u001b[38;5;28mprint\u001b[39m(\u001b[38;5;124m\"\u001b[39m\u001b[38;5;124mRequest : \u001b[39m\u001b[38;5;124m\"\u001b[39m \u001b[38;5;241m+\u001b[39m requestString)    \n\u001b[0;32m---> 53\u001b[0m response \u001b[38;5;241m=\u001b[39m \u001b[43mrequests\u001b[49m\u001b[38;5;241;43m.\u001b[39;49m\u001b[43mget\u001b[49m\u001b[43m(\u001b[49m\u001b[43mrequestString\u001b[49m\u001b[43m)\u001b[49m\u001b[38;5;241m.\u001b[39mtext \n\u001b[1;32m     54\u001b[0m parsed \u001b[38;5;241m=\u001b[39m json\u001b[38;5;241m.\u001b[39mloads(response)\n\u001b[1;32m     55\u001b[0m segment_df \u001b[38;5;241m=\u001b[39m pd\u001b[38;5;241m.\u001b[39mDataFrame(parsed[\u001b[38;5;124m'\u001b[39m\u001b[38;5;124mData\u001b[39m\u001b[38;5;124m'\u001b[39m][\u001b[38;5;124m'\u001b[39m\u001b[38;5;124mData\u001b[39m\u001b[38;5;124m'\u001b[39m])\n",
      "File \u001b[0;32m~/opt/anaconda3/lib/python3.9/site-packages/requests/api.py:75\u001b[0m, in \u001b[0;36mget\u001b[0;34m(url, params, **kwargs)\u001b[0m\n\u001b[1;32m     64\u001b[0m \u001b[38;5;124mr\u001b[39m\u001b[38;5;124;03m\"\"\"Sends a GET request.\u001b[39;00m\n\u001b[1;32m     65\u001b[0m \n\u001b[1;32m     66\u001b[0m \u001b[38;5;124;03m:param url: URL for the new :class:`Request` object.\u001b[39;00m\n\u001b[0;32m   (...)\u001b[0m\n\u001b[1;32m     71\u001b[0m \u001b[38;5;124;03m:rtype: requests.Response\u001b[39;00m\n\u001b[1;32m     72\u001b[0m \u001b[38;5;124;03m\"\"\"\u001b[39;00m\n\u001b[1;32m     74\u001b[0m kwargs\u001b[38;5;241m.\u001b[39msetdefault(\u001b[38;5;124m'\u001b[39m\u001b[38;5;124mallow_redirects\u001b[39m\u001b[38;5;124m'\u001b[39m, \u001b[38;5;28;01mTrue\u001b[39;00m)\n\u001b[0;32m---> 75\u001b[0m \u001b[38;5;28;01mreturn\u001b[39;00m \u001b[43mrequest\u001b[49m\u001b[43m(\u001b[49m\u001b[38;5;124;43m'\u001b[39;49m\u001b[38;5;124;43mget\u001b[39;49m\u001b[38;5;124;43m'\u001b[39;49m\u001b[43m,\u001b[49m\u001b[43m \u001b[49m\u001b[43murl\u001b[49m\u001b[43m,\u001b[49m\u001b[43m \u001b[49m\u001b[43mparams\u001b[49m\u001b[38;5;241;43m=\u001b[39;49m\u001b[43mparams\u001b[49m\u001b[43m,\u001b[49m\u001b[43m \u001b[49m\u001b[38;5;241;43m*\u001b[39;49m\u001b[38;5;241;43m*\u001b[39;49m\u001b[43mkwargs\u001b[49m\u001b[43m)\u001b[49m\n",
      "File \u001b[0;32m~/opt/anaconda3/lib/python3.9/site-packages/requests/api.py:60\u001b[0m, in \u001b[0;36mrequest\u001b[0;34m(method, url, **kwargs)\u001b[0m\n\u001b[1;32m     56\u001b[0m \u001b[38;5;66;03m# By using the 'with' statement we are sure the session is closed, thus we\u001b[39;00m\n\u001b[1;32m     57\u001b[0m \u001b[38;5;66;03m# avoid leaving sockets open which can trigger a ResourceWarning in some\u001b[39;00m\n\u001b[1;32m     58\u001b[0m \u001b[38;5;66;03m# cases, and look like a memory leak in others.\u001b[39;00m\n\u001b[1;32m     59\u001b[0m \u001b[38;5;28;01mwith\u001b[39;00m sessions\u001b[38;5;241m.\u001b[39mSession() \u001b[38;5;28;01mas\u001b[39;00m session:\n\u001b[0;32m---> 60\u001b[0m     \u001b[38;5;28;01mreturn\u001b[39;00m \u001b[43msession\u001b[49m\u001b[38;5;241;43m.\u001b[39;49m\u001b[43mrequest\u001b[49m\u001b[43m(\u001b[49m\u001b[43mmethod\u001b[49m\u001b[38;5;241;43m=\u001b[39;49m\u001b[43mmethod\u001b[49m\u001b[43m,\u001b[49m\u001b[43m \u001b[49m\u001b[43murl\u001b[49m\u001b[38;5;241;43m=\u001b[39;49m\u001b[43murl\u001b[49m\u001b[43m,\u001b[49m\u001b[43m \u001b[49m\u001b[38;5;241;43m*\u001b[39;49m\u001b[38;5;241;43m*\u001b[39;49m\u001b[43mkwargs\u001b[49m\u001b[43m)\u001b[49m\n",
      "File \u001b[0;32m~/opt/anaconda3/lib/python3.9/site-packages/requests/sessions.py:533\u001b[0m, in \u001b[0;36mSession.request\u001b[0;34m(self, method, url, params, data, headers, cookies, files, auth, timeout, allow_redirects, proxies, hooks, stream, verify, cert, json)\u001b[0m\n\u001b[1;32m    528\u001b[0m send_kwargs \u001b[38;5;241m=\u001b[39m {\n\u001b[1;32m    529\u001b[0m     \u001b[38;5;124m'\u001b[39m\u001b[38;5;124mtimeout\u001b[39m\u001b[38;5;124m'\u001b[39m: timeout,\n\u001b[1;32m    530\u001b[0m     \u001b[38;5;124m'\u001b[39m\u001b[38;5;124mallow_redirects\u001b[39m\u001b[38;5;124m'\u001b[39m: allow_redirects,\n\u001b[1;32m    531\u001b[0m }\n\u001b[1;32m    532\u001b[0m send_kwargs\u001b[38;5;241m.\u001b[39mupdate(settings)\n\u001b[0;32m--> 533\u001b[0m resp \u001b[38;5;241m=\u001b[39m \u001b[38;5;28;43mself\u001b[39;49m\u001b[38;5;241;43m.\u001b[39;49m\u001b[43msend\u001b[49m\u001b[43m(\u001b[49m\u001b[43mprep\u001b[49m\u001b[43m,\u001b[49m\u001b[43m \u001b[49m\u001b[38;5;241;43m*\u001b[39;49m\u001b[38;5;241;43m*\u001b[39;49m\u001b[43msend_kwargs\u001b[49m\u001b[43m)\u001b[49m\n\u001b[1;32m    535\u001b[0m \u001b[38;5;28;01mreturn\u001b[39;00m resp\n",
      "File \u001b[0;32m~/opt/anaconda3/lib/python3.9/site-packages/requests/sessions.py:646\u001b[0m, in \u001b[0;36mSession.send\u001b[0;34m(self, request, **kwargs)\u001b[0m\n\u001b[1;32m    643\u001b[0m start \u001b[38;5;241m=\u001b[39m preferred_clock()\n\u001b[1;32m    645\u001b[0m \u001b[38;5;66;03m# Send the request\u001b[39;00m\n\u001b[0;32m--> 646\u001b[0m r \u001b[38;5;241m=\u001b[39m \u001b[43madapter\u001b[49m\u001b[38;5;241;43m.\u001b[39;49m\u001b[43msend\u001b[49m\u001b[43m(\u001b[49m\u001b[43mrequest\u001b[49m\u001b[43m,\u001b[49m\u001b[43m \u001b[49m\u001b[38;5;241;43m*\u001b[39;49m\u001b[38;5;241;43m*\u001b[39;49m\u001b[43mkwargs\u001b[49m\u001b[43m)\u001b[49m\n\u001b[1;32m    648\u001b[0m \u001b[38;5;66;03m# Total elapsed time of the request (approximately)\u001b[39;00m\n\u001b[1;32m    649\u001b[0m elapsed \u001b[38;5;241m=\u001b[39m preferred_clock() \u001b[38;5;241m-\u001b[39m start\n",
      "File \u001b[0;32m~/opt/anaconda3/lib/python3.9/site-packages/requests/adapters.py:439\u001b[0m, in \u001b[0;36mHTTPAdapter.send\u001b[0;34m(self, request, stream, timeout, verify, cert, proxies)\u001b[0m\n\u001b[1;32m    437\u001b[0m \u001b[38;5;28;01mtry\u001b[39;00m:\n\u001b[1;32m    438\u001b[0m     \u001b[38;5;28;01mif\u001b[39;00m \u001b[38;5;129;01mnot\u001b[39;00m chunked:\n\u001b[0;32m--> 439\u001b[0m         resp \u001b[38;5;241m=\u001b[39m \u001b[43mconn\u001b[49m\u001b[38;5;241;43m.\u001b[39;49m\u001b[43murlopen\u001b[49m\u001b[43m(\u001b[49m\n\u001b[1;32m    440\u001b[0m \u001b[43m            \u001b[49m\u001b[43mmethod\u001b[49m\u001b[38;5;241;43m=\u001b[39;49m\u001b[43mrequest\u001b[49m\u001b[38;5;241;43m.\u001b[39;49m\u001b[43mmethod\u001b[49m\u001b[43m,\u001b[49m\n\u001b[1;32m    441\u001b[0m \u001b[43m            \u001b[49m\u001b[43murl\u001b[49m\u001b[38;5;241;43m=\u001b[39;49m\u001b[43murl\u001b[49m\u001b[43m,\u001b[49m\n\u001b[1;32m    442\u001b[0m \u001b[43m            \u001b[49m\u001b[43mbody\u001b[49m\u001b[38;5;241;43m=\u001b[39;49m\u001b[43mrequest\u001b[49m\u001b[38;5;241;43m.\u001b[39;49m\u001b[43mbody\u001b[49m\u001b[43m,\u001b[49m\n\u001b[1;32m    443\u001b[0m \u001b[43m            \u001b[49m\u001b[43mheaders\u001b[49m\u001b[38;5;241;43m=\u001b[39;49m\u001b[43mrequest\u001b[49m\u001b[38;5;241;43m.\u001b[39;49m\u001b[43mheaders\u001b[49m\u001b[43m,\u001b[49m\n\u001b[1;32m    444\u001b[0m \u001b[43m            \u001b[49m\u001b[43mredirect\u001b[49m\u001b[38;5;241;43m=\u001b[39;49m\u001b[38;5;28;43;01mFalse\u001b[39;49;00m\u001b[43m,\u001b[49m\n\u001b[1;32m    445\u001b[0m \u001b[43m            \u001b[49m\u001b[43massert_same_host\u001b[49m\u001b[38;5;241;43m=\u001b[39;49m\u001b[38;5;28;43;01mFalse\u001b[39;49;00m\u001b[43m,\u001b[49m\n\u001b[1;32m    446\u001b[0m \u001b[43m            \u001b[49m\u001b[43mpreload_content\u001b[49m\u001b[38;5;241;43m=\u001b[39;49m\u001b[38;5;28;43;01mFalse\u001b[39;49;00m\u001b[43m,\u001b[49m\n\u001b[1;32m    447\u001b[0m \u001b[43m            \u001b[49m\u001b[43mdecode_content\u001b[49m\u001b[38;5;241;43m=\u001b[39;49m\u001b[38;5;28;43;01mFalse\u001b[39;49;00m\u001b[43m,\u001b[49m\n\u001b[1;32m    448\u001b[0m \u001b[43m            \u001b[49m\u001b[43mretries\u001b[49m\u001b[38;5;241;43m=\u001b[39;49m\u001b[38;5;28;43mself\u001b[39;49m\u001b[38;5;241;43m.\u001b[39;49m\u001b[43mmax_retries\u001b[49m\u001b[43m,\u001b[49m\n\u001b[1;32m    449\u001b[0m \u001b[43m            \u001b[49m\u001b[43mtimeout\u001b[49m\u001b[38;5;241;43m=\u001b[39;49m\u001b[43mtimeout\u001b[49m\n\u001b[1;32m    450\u001b[0m \u001b[43m        \u001b[49m\u001b[43m)\u001b[49m\n\u001b[1;32m    452\u001b[0m     \u001b[38;5;66;03m# Send the request.\u001b[39;00m\n\u001b[1;32m    453\u001b[0m     \u001b[38;5;28;01melse\u001b[39;00m:\n\u001b[1;32m    454\u001b[0m         \u001b[38;5;28;01mif\u001b[39;00m \u001b[38;5;28mhasattr\u001b[39m(conn, \u001b[38;5;124m'\u001b[39m\u001b[38;5;124mproxy_pool\u001b[39m\u001b[38;5;124m'\u001b[39m):\n",
      "File \u001b[0;32m~/opt/anaconda3/lib/python3.9/site-packages/urllib3/connectionpool.py:670\u001b[0m, in \u001b[0;36mHTTPConnectionPool.urlopen\u001b[0;34m(self, method, url, body, headers, retries, redirect, assert_same_host, timeout, pool_timeout, release_conn, chunked, body_pos, **response_kw)\u001b[0m\n\u001b[1;32m    667\u001b[0m     \u001b[38;5;28mself\u001b[39m\u001b[38;5;241m.\u001b[39m_prepare_proxy(conn)\n\u001b[1;32m    669\u001b[0m \u001b[38;5;66;03m# Make the request on the httplib connection object.\u001b[39;00m\n\u001b[0;32m--> 670\u001b[0m httplib_response \u001b[38;5;241m=\u001b[39m \u001b[38;5;28;43mself\u001b[39;49m\u001b[38;5;241;43m.\u001b[39;49m\u001b[43m_make_request\u001b[49m\u001b[43m(\u001b[49m\n\u001b[1;32m    671\u001b[0m \u001b[43m    \u001b[49m\u001b[43mconn\u001b[49m\u001b[43m,\u001b[49m\n\u001b[1;32m    672\u001b[0m \u001b[43m    \u001b[49m\u001b[43mmethod\u001b[49m\u001b[43m,\u001b[49m\n\u001b[1;32m    673\u001b[0m \u001b[43m    \u001b[49m\u001b[43murl\u001b[49m\u001b[43m,\u001b[49m\n\u001b[1;32m    674\u001b[0m \u001b[43m    \u001b[49m\u001b[43mtimeout\u001b[49m\u001b[38;5;241;43m=\u001b[39;49m\u001b[43mtimeout_obj\u001b[49m\u001b[43m,\u001b[49m\n\u001b[1;32m    675\u001b[0m \u001b[43m    \u001b[49m\u001b[43mbody\u001b[49m\u001b[38;5;241;43m=\u001b[39;49m\u001b[43mbody\u001b[49m\u001b[43m,\u001b[49m\n\u001b[1;32m    676\u001b[0m \u001b[43m    \u001b[49m\u001b[43mheaders\u001b[49m\u001b[38;5;241;43m=\u001b[39;49m\u001b[43mheaders\u001b[49m\u001b[43m,\u001b[49m\n\u001b[1;32m    677\u001b[0m \u001b[43m    \u001b[49m\u001b[43mchunked\u001b[49m\u001b[38;5;241;43m=\u001b[39;49m\u001b[43mchunked\u001b[49m\u001b[43m,\u001b[49m\n\u001b[1;32m    678\u001b[0m \u001b[43m\u001b[49m\u001b[43m)\u001b[49m\n\u001b[1;32m    680\u001b[0m \u001b[38;5;66;03m# If we're going to release the connection in ``finally:``, then\u001b[39;00m\n\u001b[1;32m    681\u001b[0m \u001b[38;5;66;03m# the response doesn't need to know about the connection. Otherwise\u001b[39;00m\n\u001b[1;32m    682\u001b[0m \u001b[38;5;66;03m# it will also try to release it and we'll have a double-release\u001b[39;00m\n\u001b[1;32m    683\u001b[0m \u001b[38;5;66;03m# mess.\u001b[39;00m\n\u001b[1;32m    684\u001b[0m response_conn \u001b[38;5;241m=\u001b[39m conn \u001b[38;5;28;01mif\u001b[39;00m \u001b[38;5;129;01mnot\u001b[39;00m release_conn \u001b[38;5;28;01melse\u001b[39;00m \u001b[38;5;28;01mNone\u001b[39;00m\n",
      "File \u001b[0;32m~/opt/anaconda3/lib/python3.9/site-packages/urllib3/connectionpool.py:381\u001b[0m, in \u001b[0;36mHTTPConnectionPool._make_request\u001b[0;34m(self, conn, method, url, timeout, chunked, **httplib_request_kw)\u001b[0m\n\u001b[1;32m    379\u001b[0m \u001b[38;5;66;03m# Trigger any extra validation we need to do.\u001b[39;00m\n\u001b[1;32m    380\u001b[0m \u001b[38;5;28;01mtry\u001b[39;00m:\n\u001b[0;32m--> 381\u001b[0m     \u001b[38;5;28;43mself\u001b[39;49m\u001b[38;5;241;43m.\u001b[39;49m\u001b[43m_validate_conn\u001b[49m\u001b[43m(\u001b[49m\u001b[43mconn\u001b[49m\u001b[43m)\u001b[49m\n\u001b[1;32m    382\u001b[0m \u001b[38;5;28;01mexcept\u001b[39;00m (SocketTimeout, BaseSSLError) \u001b[38;5;28;01mas\u001b[39;00m e:\n\u001b[1;32m    383\u001b[0m     \u001b[38;5;66;03m# Py2 raises this as a BaseSSLError, Py3 raises it as socket timeout.\u001b[39;00m\n\u001b[1;32m    384\u001b[0m     \u001b[38;5;28mself\u001b[39m\u001b[38;5;241m.\u001b[39m_raise_timeout(err\u001b[38;5;241m=\u001b[39me, url\u001b[38;5;241m=\u001b[39murl, timeout_value\u001b[38;5;241m=\u001b[39mconn\u001b[38;5;241m.\u001b[39mtimeout)\n",
      "File \u001b[0;32m~/opt/anaconda3/lib/python3.9/site-packages/urllib3/connectionpool.py:978\u001b[0m, in \u001b[0;36mHTTPSConnectionPool._validate_conn\u001b[0;34m(self, conn)\u001b[0m\n\u001b[1;32m    976\u001b[0m \u001b[38;5;66;03m# Force connect early to allow us to validate the connection.\u001b[39;00m\n\u001b[1;32m    977\u001b[0m \u001b[38;5;28;01mif\u001b[39;00m \u001b[38;5;129;01mnot\u001b[39;00m \u001b[38;5;28mgetattr\u001b[39m(conn, \u001b[38;5;124m\"\u001b[39m\u001b[38;5;124msock\u001b[39m\u001b[38;5;124m\"\u001b[39m, \u001b[38;5;28;01mNone\u001b[39;00m):  \u001b[38;5;66;03m# AppEngine might not have  `.sock`\u001b[39;00m\n\u001b[0;32m--> 978\u001b[0m     \u001b[43mconn\u001b[49m\u001b[38;5;241;43m.\u001b[39;49m\u001b[43mconnect\u001b[49m\u001b[43m(\u001b[49m\u001b[43m)\u001b[49m\n\u001b[1;32m    980\u001b[0m \u001b[38;5;28;01mif\u001b[39;00m \u001b[38;5;129;01mnot\u001b[39;00m conn\u001b[38;5;241m.\u001b[39mis_verified:\n\u001b[1;32m    981\u001b[0m     warnings\u001b[38;5;241m.\u001b[39mwarn(\n\u001b[1;32m    982\u001b[0m         (\n\u001b[1;32m    983\u001b[0m             \u001b[38;5;124m\"\u001b[39m\u001b[38;5;124mUnverified HTTPS request is being made to host \u001b[39m\u001b[38;5;124m'\u001b[39m\u001b[38;5;132;01m%s\u001b[39;00m\u001b[38;5;124m'\u001b[39m\u001b[38;5;124m. \u001b[39m\u001b[38;5;124m\"\u001b[39m\n\u001b[0;32m   (...)\u001b[0m\n\u001b[1;32m    988\u001b[0m         InsecureRequestWarning,\n\u001b[1;32m    989\u001b[0m     )\n",
      "File \u001b[0;32m~/opt/anaconda3/lib/python3.9/site-packages/urllib3/connection.py:343\u001b[0m, in \u001b[0;36mHTTPSConnection.connect\u001b[0;34m(self)\u001b[0m\n\u001b[1;32m    341\u001b[0m \u001b[38;5;28;01mif\u001b[39;00m \u001b[38;5;28mself\u001b[39m\u001b[38;5;241m.\u001b[39mssl_context \u001b[38;5;129;01mis\u001b[39;00m \u001b[38;5;28;01mNone\u001b[39;00m:\n\u001b[1;32m    342\u001b[0m     default_ssl_context \u001b[38;5;241m=\u001b[39m \u001b[38;5;28;01mTrue\u001b[39;00m\n\u001b[0;32m--> 343\u001b[0m     \u001b[38;5;28mself\u001b[39m\u001b[38;5;241m.\u001b[39mssl_context \u001b[38;5;241m=\u001b[39m \u001b[43mcreate_urllib3_context\u001b[49m\u001b[43m(\u001b[49m\n\u001b[1;32m    344\u001b[0m \u001b[43m        \u001b[49m\u001b[43mssl_version\u001b[49m\u001b[38;5;241;43m=\u001b[39;49m\u001b[43mresolve_ssl_version\u001b[49m\u001b[43m(\u001b[49m\u001b[38;5;28;43mself\u001b[39;49m\u001b[38;5;241;43m.\u001b[39;49m\u001b[43mssl_version\u001b[49m\u001b[43m)\u001b[49m\u001b[43m,\u001b[49m\n\u001b[1;32m    345\u001b[0m \u001b[43m        \u001b[49m\u001b[43mcert_reqs\u001b[49m\u001b[38;5;241;43m=\u001b[39;49m\u001b[43mresolve_cert_reqs\u001b[49m\u001b[43m(\u001b[49m\u001b[38;5;28;43mself\u001b[39;49m\u001b[38;5;241;43m.\u001b[39;49m\u001b[43mcert_reqs\u001b[49m\u001b[43m)\u001b[49m\u001b[43m,\u001b[49m\n\u001b[1;32m    346\u001b[0m \u001b[43m    \u001b[49m\u001b[43m)\u001b[49m\n\u001b[1;32m    348\u001b[0m context \u001b[38;5;241m=\u001b[39m \u001b[38;5;28mself\u001b[39m\u001b[38;5;241m.\u001b[39mssl_context\n\u001b[1;32m    349\u001b[0m context\u001b[38;5;241m.\u001b[39mverify_mode \u001b[38;5;241m=\u001b[39m resolve_cert_reqs(\u001b[38;5;28mself\u001b[39m\u001b[38;5;241m.\u001b[39mcert_reqs)\n",
      "File \u001b[0;32m~/opt/anaconda3/lib/python3.9/site-packages/urllib3/util/ssl_.py:290\u001b[0m, in \u001b[0;36mcreate_urllib3_context\u001b[0;34m(ssl_version, cert_reqs, options, ciphers)\u001b[0m\n\u001b[1;32m    285\u001b[0m \u001b[38;5;28;01mif\u001b[39;00m (cert_reqs \u001b[38;5;241m==\u001b[39m ssl\u001b[38;5;241m.\u001b[39mCERT_REQUIRED \u001b[38;5;129;01mor\u001b[39;00m sys\u001b[38;5;241m.\u001b[39mversion_info \u001b[38;5;241m>\u001b[39m\u001b[38;5;241m=\u001b[39m (\u001b[38;5;241m3\u001b[39m, \u001b[38;5;241m7\u001b[39m, \u001b[38;5;241m4\u001b[39m)) \u001b[38;5;129;01mand\u001b[39;00m \u001b[38;5;28mgetattr\u001b[39m(\n\u001b[1;32m    286\u001b[0m     context, \u001b[38;5;124m\"\u001b[39m\u001b[38;5;124mpost_handshake_auth\u001b[39m\u001b[38;5;124m\"\u001b[39m, \u001b[38;5;28;01mNone\u001b[39;00m\n\u001b[1;32m    287\u001b[0m ) \u001b[38;5;129;01mis\u001b[39;00m \u001b[38;5;129;01mnot\u001b[39;00m \u001b[38;5;28;01mNone\u001b[39;00m:\n\u001b[1;32m    288\u001b[0m     context\u001b[38;5;241m.\u001b[39mpost_handshake_auth \u001b[38;5;241m=\u001b[39m \u001b[38;5;28;01mTrue\u001b[39;00m\n\u001b[0;32m--> 290\u001b[0m context\u001b[38;5;241m.\u001b[39mverify_mode \u001b[38;5;241m=\u001b[39m cert_reqs\n\u001b[1;32m    291\u001b[0m \u001b[38;5;28;01mif\u001b[39;00m (\n\u001b[1;32m    292\u001b[0m     \u001b[38;5;28mgetattr\u001b[39m(context, \u001b[38;5;124m\"\u001b[39m\u001b[38;5;124mcheck_hostname\u001b[39m\u001b[38;5;124m\"\u001b[39m, \u001b[38;5;28;01mNone\u001b[39;00m) \u001b[38;5;129;01mis\u001b[39;00m \u001b[38;5;129;01mnot\u001b[39;00m \u001b[38;5;28;01mNone\u001b[39;00m\n\u001b[1;32m    293\u001b[0m ):  \u001b[38;5;66;03m# Platform-specific: Python 3.2\u001b[39;00m\n\u001b[1;32m    294\u001b[0m     \u001b[38;5;66;03m# We do our own verification, including fingerprints and alternative\u001b[39;00m\n\u001b[1;32m    295\u001b[0m     \u001b[38;5;66;03m# hostnames. So disable it here\u001b[39;00m\n\u001b[1;32m    296\u001b[0m     context\u001b[38;5;241m.\u001b[39mcheck_hostname \u001b[38;5;241m=\u001b[39m \u001b[38;5;28;01mFalse\u001b[39;00m\n",
      "File \u001b[0;32m~/opt/anaconda3/lib/python3.9/site-packages/urllib3/contrib/pyopenssl.py:438\u001b[0m, in \u001b[0;36mPyOpenSSLContext.verify_mode\u001b[0;34m(self, value)\u001b[0m\n\u001b[1;32m    436\u001b[0m \u001b[38;5;129m@verify_mode\u001b[39m\u001b[38;5;241m.\u001b[39msetter\n\u001b[1;32m    437\u001b[0m \u001b[38;5;28;01mdef\u001b[39;00m \u001b[38;5;21mverify_mode\u001b[39m(\u001b[38;5;28mself\u001b[39m, value):\n\u001b[0;32m--> 438\u001b[0m     \u001b[38;5;28;43mself\u001b[39;49m\u001b[38;5;241;43m.\u001b[39;49m\u001b[43m_ctx\u001b[49m\u001b[38;5;241;43m.\u001b[39;49m\u001b[43mset_verify\u001b[49m\u001b[43m(\u001b[49m\u001b[43m_stdlib_to_openssl_verify\u001b[49m\u001b[43m[\u001b[49m\u001b[43mvalue\u001b[49m\u001b[43m]\u001b[49m\u001b[43m,\u001b[49m\u001b[43m \u001b[49m\u001b[43m_verify_callback\u001b[49m\u001b[43m)\u001b[49m\n",
      "File \u001b[0;32m~/opt/anaconda3/lib/python3.9/site-packages/OpenSSL/SSL.py:1128\u001b[0m, in \u001b[0;36mContext.set_verify\u001b[0;34m(self, mode, callback)\u001b[0m\n\u001b[1;32m   1125\u001b[0m \u001b[38;5;28;01mif\u001b[39;00m \u001b[38;5;129;01mnot\u001b[39;00m callable(callback):\n\u001b[1;32m   1126\u001b[0m     \u001b[38;5;28;01mraise\u001b[39;00m \u001b[38;5;167;01mTypeError\u001b[39;00m(\u001b[38;5;124m\"\u001b[39m\u001b[38;5;124mcallback must be callable\u001b[39m\u001b[38;5;124m\"\u001b[39m)\n\u001b[0;32m-> 1128\u001b[0m \u001b[38;5;28mself\u001b[39m\u001b[38;5;241m.\u001b[39m_verify_helper \u001b[38;5;241m=\u001b[39m \u001b[43m_VerifyHelper\u001b[49m\u001b[43m(\u001b[49m\u001b[43mcallback\u001b[49m\u001b[43m)\u001b[49m\n\u001b[1;32m   1129\u001b[0m \u001b[38;5;28mself\u001b[39m\u001b[38;5;241m.\u001b[39m_verify_callback \u001b[38;5;241m=\u001b[39m \u001b[38;5;28mself\u001b[39m\u001b[38;5;241m.\u001b[39m_verify_helper\u001b[38;5;241m.\u001b[39mcallback\n\u001b[1;32m   1130\u001b[0m _lib\u001b[38;5;241m.\u001b[39mSSL_CTX_set_verify(\u001b[38;5;28mself\u001b[39m\u001b[38;5;241m.\u001b[39m_context, mode, \u001b[38;5;28mself\u001b[39m\u001b[38;5;241m.\u001b[39m_verify_callback)\n",
      "File \u001b[0;32m~/opt/anaconda3/lib/python3.9/site-packages/OpenSSL/SSL.py:359\u001b[0m, in \u001b[0;36m_VerifyHelper.__init__\u001b[0;34m(self, callback)\u001b[0m\n\u001b[1;32m    356\u001b[0m         \u001b[38;5;28;01melse\u001b[39;00m:\n\u001b[1;32m    357\u001b[0m             \u001b[38;5;28;01mreturn\u001b[39;00m \u001b[38;5;241m0\u001b[39m\n\u001b[0;32m--> 359\u001b[0m \u001b[38;5;28mself\u001b[39m\u001b[38;5;241m.\u001b[39mcallback \u001b[38;5;241m=\u001b[39m \u001b[43m_ffi\u001b[49m\u001b[38;5;241;43m.\u001b[39;49m\u001b[43mcallback\u001b[49m\u001b[43m(\u001b[49m\n\u001b[1;32m    360\u001b[0m \u001b[43m    \u001b[49m\u001b[38;5;124;43m\"\u001b[39;49m\u001b[38;5;124;43mint (*)(int, X509_STORE_CTX *)\u001b[39;49m\u001b[38;5;124;43m\"\u001b[39;49m\u001b[43m,\u001b[49m\u001b[43m \u001b[49m\u001b[43mwrapper\u001b[49m\n\u001b[1;32m    361\u001b[0m \u001b[43m\u001b[49m\u001b[43m)\u001b[49m\n",
      "\u001b[0;31mMemoryError\u001b[0m: Cannot allocate write+execute memory for ffi.callback(). You might be running on a system that prevents this. For more information, see https://cffi.readthedocs.io/en/latest/using.html#callbacks"
     ]
    }
   ],
   "source": [
    "import requests\n",
    "import json\n",
    "import pandas as pd\n",
    "pd.options.mode.chained_assignment = None  # default='warn'\n",
    "\n",
    "from datetime import datetime\n",
    "import time\n",
    "\n",
    "# ----- User Settings \n",
    "#coins=['BTC', 'ETH','LTC','MKR','AAVE', 'BAL', 'UNI', 'LDO', 'MATIC','LINK']\n",
    "coins=['BTC', 'ETH','LTC','LINK']\n",
    "\n",
    "trading_fee = 0.5/100 \n",
    "collectDataFrom = pd.Timestamp('2022-01-01')\n",
    "trading_range = [+0.02,+2]\n",
    "#buyAbove='sma7d'\n",
    "#buyAbove='sma50d'\n",
    "#buyAbove='sma200d'\n",
    "buyAbove='sma200w'\n",
    "\n",
    "cryptocompare_api_key='777db0605f662ba6667a0c8d385d317262bd221764d4a3b01dc7a629e9592a49'\n",
    "\n",
    "\n",
    "# ----- User Settings -- end\n",
    "\n",
    "coin_colors = {\n",
    "    'BTC':'orange',\n",
    "    'ETH':'grey',\n",
    "    'AAVE':'purple',\n",
    "    'LTC':'lightblue',\n",
    "    'MKR':'lightgreen',\n",
    "    'MATIC':'blue',\n",
    "    'UNI':'pink',\n",
    "    'LDO':'darkred',\n",
    "    'BAL':'brown',\n",
    "    'LQTY':'teal',\n",
    "    'BIFI' :'lightgrey',\n",
    "    'LINK' : 'darkblue'\n",
    "}\n",
    "\n",
    "initial_coin = 1\n",
    "initial_usd = 0\n",
    "limit=2000\n",
    "\n",
    "coin_dfs=[]\n",
    "for coin in coins:\n",
    "    time_segments = []\n",
    "    timestamp = pd.Timestamp.now()\n",
    "    while collectDataFrom <= timestamp : \n",
    "        requestString = 'https://min-api.cryptocompare.com/data/v2/histoday?fsym={}&tsym=USD&limit={}&api_key={}&toTs={}'\\\n",
    "        .format(coin, limit, cryptocompare_api_key, timestamp.timestamp())\n",
    "        print(\"Request : \" + requestString)    \n",
    "        response = requests.get(requestString).text \n",
    "        parsed = json.loads(response)\n",
    "        segment_df = pd.DataFrame(parsed['Data']['Data'])\n",
    "        segment_df['time'] = pd.to_datetime(segment_df['time'], unit='s')\n",
    "        segment_df.set_index(['time'],inplace=True, verify_integrity = True, drop = True)\n",
    "        segment_df.sort_index()\n",
    "\n",
    "        #segment_df.drop_duplicates(inplace=True)\n",
    "        timestamp = segment_df.first_valid_index() - pd.Timedelta(1, \"d\") # -1 day        \n",
    "        #segment_df= segment_df.head(1)\n",
    "        time_segments.append(segment_df)\n",
    "          \n",
    "    df = pd.concat(time_segments, axis=0)\n",
    "    df = pd.concat({coin: df}, axis=1, names=[\"Coin\", \"Metrics\"])\n",
    "    df.drop_duplicates(inplace=True)\n",
    "    df.drop(columns=['volumefrom','volumeto','conversionType','conversionSymbol'], level='Metrics', inplace=True)\n",
    "    coin_dfs.append(df)\n",
    "df=pd.concat(coin_dfs, axis=1)\n",
    "df=df.loc[collectDataFrom:]\n",
    "df.sort_index(inplace=True)\n",
    "df\n"
   ]
  },
  {
   "cell_type": "markdown",
   "id": "7e2fad8d",
   "metadata": {},
   "source": [
    "## Narrowing Input and Refining Input Parameters"
   ]
  },
  {
   "cell_type": "code",
   "execution_count": null,
   "id": "8c909a8b",
   "metadata": {},
   "outputs": [],
   "source": [
    "# ----- User Settings Overrides\n",
    "#coins=['BTC', 'ETH','LTC','MKR','AAVE', 'BAL', 'UNI', 'LDO', 'MATIC','LINK']\n",
    "coins=['ETH','BTC','LTC']\n",
    "\n",
    "trading_fee = 0.5/100 \n",
    "trading_range = [+0.02,+2]\n",
    "#buyAbove='sma7d'\n",
    "#buyAbove='sma50d'\n",
    "#buyAbove='sma200d'\n",
    "buyAbove='sma200w'\n",
    "# df=df.loc['2020-01-01':]"
   ]
  },
  {
   "cell_type": "markdown",
   "id": "44f54dc4",
   "metadata": {},
   "source": [
    "## Adding Extra Columns"
   ]
  },
  {
   "cell_type": "code",
   "execution_count": null,
   "id": "2eec243b",
   "metadata": {
    "scrolled": false
   },
   "outputs": [],
   "source": [
    "for coin in coins:\n",
    "    \n",
    "    # Adding Simple Moving Average Columns\n",
    "    df.loc(axis=1)[(coin,'sma7d')] = df.loc(axis=1)[(coin,'close')].rolling(7).mean()\n",
    "    df.loc(axis=1)[(coin,'sma50d')] = df.loc(axis=1)[(coin,'close')].rolling(50).mean()\n",
    "    df.loc(axis=1)[(coin,'sma200d')] = df.loc(axis=1)[(coin,'close')].rolling(200).mean()\n",
    "    df.loc(axis=1)[(coin,'sma200w')] = df.loc(axis=1)[(coin,'close')].rolling(200*7).mean()\n",
    "    # Adding ExponentialMoving Average Columns\n",
    "    #df.loc(axis=1)[(coin,'ema21w')] = df.loc(axis=1)[(coin,'close')].ewm(span=21*7, adjust=False).mean()\n",
    "    \n",
    "    # Setting Initial coins\n",
    "\n",
    "    df.loc(axis=1)[(coin,'usd_bag')] = initial_usd;\n",
    "    df.loc(axis=1)[(coin,'coin_bag')] = initial_coin;\n",
    "df.sort_index(axis=1,inplace=True, level='Coin',sort_remaining=False)\n",
    "df['ETH']\n",
    "\n",
    "\n"
   ]
  },
  {
   "cell_type": "markdown",
   "id": "0ed2bafa",
   "metadata": {},
   "source": [
    "## Calculate Trading Strategy Results"
   ]
  },
  {
   "cell_type": "code",
   "execution_count": null,
   "id": "a99c69e6",
   "metadata": {
    "scrolled": true
   },
   "outputs": [],
   "source": [
    "\n",
    "\n",
    "def trade_by_above_ma(row, ma_column='sma7d'):\n",
    "\n",
    "    isAboveSMA = row['close'] > row[ma_column]\n",
    "    coin_bag = row['coin_bag']\n",
    "    usd_bag = row['usd_bag']\n",
    "    if pd.isna(row['close']):\n",
    "        return coin_bag, usd_bag \n",
    "    if isAboveSMA == True:  # Buy\n",
    "        if usd_bag>0:\n",
    "            coin_bag =  row['coin_bag'] + (1-trading_fee) * row['usd_bag']/row['close']  \n",
    "            usd_bag = 0\n",
    "    else:                   # Sell\n",
    "        if coin_bag>0: \n",
    "            usd_bag = row['usd_bag'] + (1-trading_fee) * row['coin_bag']*row['close']\n",
    "            coin_bag = 0\n",
    "    return coin_bag, usd_bag \n",
    "\n",
    "\n",
    "def trade_by_ma_range(row, ma_column='sma7d', trading_range = [-0.1,+0.1] ):\n",
    "    \n",
    "    coin_bag = row['coin_bag']\n",
    "    usd_bag = row['usd_bag']\n",
    "    if pd.isna(row['close']):\n",
    "        return coin_bag, usd_bag \n",
    "    if row['close'] < (1+trading_range[0])*row[ma_column] :    \n",
    "        if usd_bag>0:  # Buy\n",
    "            coin_bag =  row['coin_bag'] + (1-trading_fee) * row['usd_bag']/row['close']  \n",
    "            usd_bag = 0\n",
    "    else :\n",
    "        if row['close'] > (1+trading_range[1])*row[ma_column] :\n",
    "            if coin_bag>0: # Sell\n",
    "                usd_bag = row['usd_bag'] + (1-trading_fee) * row['coin_bag']*row['close']\n",
    "                coin_bag = 0\n",
    "    return coin_bag, usd_bag \n",
    "\n",
    "\n",
    "\n",
    "for coin in coins:\n",
    "    \n",
    "    usd_bag=initial_usd\n",
    "    coin_bag=initial_coin\n",
    "\n",
    "    for index, row in df[coin].iterrows():\n",
    "\n",
    "        row['coin_bag'] = coin_bag\n",
    "        row['usd_bag'] = usd_bag\n",
    "        #coin_bag, usd_bag = trade_by_above_ma(row, ma_column=buyAbove)\n",
    "        coin_bag, usd_bag = trade_by_ma_range(row, ma_column=buyAbove, trading_range=trading_range )\n",
    "        #df[coin].loc[index,'coin_bag'] = coin_bag\n",
    "        df.loc[index,(coin,'coin_bag')] = coin_bag\n",
    "        df.loc[index,(coin,'usd_bag')] = usd_bag\n",
    "        #df[coin].loc[index,'usd_bag'] = usd_bag\n",
    "    # df[coin]['usd_value'] = df[coin]['usd_bag'] + df[coin]['coin_bag']*df[coin]['close']\n",
    "    df.loc(axis=1)[(coin,'trade_usd_value')] = df[coin]['usd_bag'] + df[coin]['coin_bag']*df[coin]['close']\n",
    "    df.loc(axis=1)[(coin,'hodl_usd_value')] = df[coin]['close']*initial_coin + initial_usd\n",
    "    df.loc(axis=1)[(coin,'trade_success_rate')] = df[coin]['trade_usd_value'] / df[coin]['hodl_usd_value'] \n",
    "\n",
    "df.sort_index(axis=1,inplace=True, level='Coin',sort_remaining=False)\n",
    "df"
   ]
  },
  {
   "cell_type": "markdown",
   "id": "5c609a83",
   "metadata": {},
   "source": [
    "## Showing Results"
   ]
  },
  {
   "cell_type": "code",
   "execution_count": null,
   "id": "147954be",
   "metadata": {},
   "outputs": [],
   "source": [
    "\n",
    "import matplotlib.pyplot as plot\n",
    "\n",
    "coin='ETH'\n",
    "df[coin]['close'].plot(c='orange',label='Hodl Portfolio USD Value',linewidth=2)\n",
    "df[coin][buyAbove].plot(c='red',label=buyAbove)\n",
    "df[coin]['trade_usd_value'].plot(c='blue',label='Buy above {} strategy USD Value'.format(buyAbove),linewidth=2)\n",
    "\n",
    "\n",
    "plot.title(\"{} Moving Average Trading Based on {}\".format(coin, buyAbove), fontsize=20)\n",
    "plot.ylabel(\"{} Price\".format(coin))\n",
    "plot.xlabel('Date')\n",
    "plot.legend()\n",
    "plot.yscale('log')\n",
    "F = plot.gcf()\n",
    "\n",
    "# Now check everything with the defaults:\n",
    "#DPI = F.get_dpi()\n",
    "#print (\"DPI:\", DPI)\n",
    "DefaultSize = F.get_size_inches()\n",
    "#print (\"Default size in Inches\", DefaultSize)\n",
    "#print (\"Which should result in a %i x %i Image\"%(DPI*DefaultSize[0], DPI*DefaultSize[1]))\n",
    "# the default is 100dpi for savefig:\n",
    "#F.savefig(\"test1.png\")\n",
    "# this gives me a 797 x 566 pixel image, which is about 100 DPI\n",
    "\n",
    "# Now make the image twice as big, while keeping the fonts and all the\n",
    "# same size\n",
    "F.set_size_inches( (DefaultSize[0]*3, DefaultSize[1]*2) )"
   ]
  },
  {
   "cell_type": "code",
   "execution_count": null,
   "id": "b13a950c",
   "metadata": {},
   "outputs": [],
   "source": [
    "\n",
    "for coin in coins:\n",
    "    df[coin]['trade_success_rate'].plot(c=coin_colors[coin],label=\"Better Than hodling {}\".format(coin),linewidth=2)\n",
    "\n",
    "plot.title(\"Moving Average Trading Based on {} vs Hodl Success Rate \".format(buyAbove), fontsize=20)\n",
    "plot.ylabel(\"Portfolio success ratio over hodl\")\n",
    "plot.xlabel('Date')\n",
    "plot.legend()\n",
    "F = plot.gcf()\n",
    "DefaultSize = F.get_size_inches()\n",
    "\n",
    "F.set_size_inches( (DefaultSize[0]*3, DefaultSize[1]*2) )"
   ]
  },
  {
   "cell_type": "code",
   "execution_count": null,
   "id": "c21fc5ab",
   "metadata": {},
   "outputs": [],
   "source": [
    "# Apply the default theme\n",
    "import seaborn as sns\n",
    "coin='BTC'\n",
    "sns.set_theme( palette=\"pastel\")\n",
    "sns.set(rc = {'figure.figsize':(15,8)})\n",
    "\n",
    "plot.title(\"{} Moving Average Trading Based on {}\".format(coin, buyAbove), fontsize=20)\n",
    "g_results=sns.lineplot(data=df[coin], x=df[coin].index, y=df[coin]['close'], color=coin_colors[coin],label='{} Price'.format(coin))\n",
    "g_results=sns.lineplot(data=df[coin], x=df[coin].index, y=df[coin][buyAbove], color='red', label=buyAbove)\n",
    "g_results=sns.lineplot(data=df[coin], x=df[coin].index, y=df[coin]['trade_usd_value'], color='blue', label='Trading Value {}'.format(buyAbove),linewidth=1)\n",
    "\n",
    "g_results.set(yscale='log')\n",
    "plot.legend()"
   ]
  }
 ],
 "metadata": {
  "kernelspec": {
   "display_name": "Python 3 (ipykernel)",
   "language": "python",
   "name": "python3"
  },
  "language_info": {
   "codemirror_mode": {
    "name": "ipython",
    "version": 3
   },
   "file_extension": ".py",
   "mimetype": "text/x-python",
   "name": "python",
   "nbconvert_exporter": "python",
   "pygments_lexer": "ipython3",
   "version": "3.9.13"
  }
 },
 "nbformat": 4,
 "nbformat_minor": 5
}
