{
 "cells": [
  {
   "cell_type": "markdown",
   "id": "37ac5fd6",
   "metadata": {},
   "source": [
    "# Daily Active Users"
   ]
  },
  {
   "cell_type": "code",
   "execution_count": 3,
   "id": "c27ea500",
   "metadata": {},
   "outputs": [
    {
     "data": {
      "text/plain": [
       "<Response [200]>"
      ]
     },
     "execution_count": 3,
     "metadata": {},
     "output_type": "execute_result"
    }
   ],
   "source": [
    "import pandas as pd\n",
    "import matplotlib.pyplot as plt\n",
    "import requests\n",
    "\n",
    "# Ethereum API endpoint for daily transactions\n",
    "apiKey = 'NHVIWYC7B11XMAQ467QVW9A9WZ9MBU48Z2'\n",
    "url = 'https://api.etherscan.io/api?module=stats&action=dailytx&startblock=0&endblock=99999999&apikey=' + apiKey\n",
    "\n",
    "# Make the API call and retrieve the data\n",
    "response = requests.get(url)\n",
    "response\n",
    "# data = response.json()['result']\n",
    "\n",
    "# Convert the data to a pandas dataframe\n",
    "# df = pd.DataFrame(data)\n",
    "\n",
    "# Convert the timestamp to a datetime format\n",
    "# df['timeStamp'] = pd.to_datetime(df['timeStamp'], unit='s')\n",
    "\n",
    "# Calculate the active users based on the number of unique addresses that appeared in transactions on a given day\n",
    "# df['activeUsers'] = df['uniqueAddressCount'] / 2\n",
    "\n",
    "# Set the timestamp as the index\n",
    "# df.set_index('timeStamp', inplace=True)\n"
   ]
  }
 ],
 "metadata": {
  "kernelspec": {
   "display_name": "Python 3 (ipykernel)",
   "language": "python",
   "name": "python3"
  },
  "language_info": {
   "codemirror_mode": {
    "name": "ipython",
    "version": 3
   },
   "file_extension": ".py",
   "mimetype": "text/x-python",
   "name": "python",
   "nbconvert_exporter": "python",
   "pygments_lexer": "ipython3",
   "version": "3.9.13"
  }
 },
 "nbformat": 4,
 "nbformat_minor": 5
}
